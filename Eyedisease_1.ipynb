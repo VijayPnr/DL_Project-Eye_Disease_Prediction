{
  "cells": [
    {
      "cell_type": "markdown",
      "metadata": {
        "id": "view-in-github",
        "colab_type": "text"
      },
      "source": [
        "<a href=\"https://colab.research.google.com/github/VijayPnr/DL_Project-Eye_Disease_Prediction/blob/main/Eyedisease_1.ipynb\" target=\"_parent\"><img src=\"https://colab.research.google.com/assets/colab-badge.svg\" alt=\"Open In Colab\"/></a>"
      ]
    },
    {
      "cell_type": "code",
      "execution_count": null,
      "id": "07ec0ce3",
      "metadata": {
        "id": "07ec0ce3",
        "outputId": "a90625f6-af8e-4ad6-d804-0dec61239d33"
      },
      "outputs": [
        {
          "name": "stdout",
          "output_type": "stream",
          "text": [
            "Defaulting to user installation because normal site-packages is not writeable\n",
            "Requirement already satisfied: opencv-python in c:\\users\\vijay\\appdata\\roaming\\python\\python39\\site-packages (4.6.0.66)\n",
            "Requirement already satisfied: numpy>=1.17.3 in c:\\programdata\\anaconda3\\lib\\site-packages (from opencv-python) (1.21.5)\n",
            "Note: you may need to restart the kernel to use updated packages.\n"
          ]
        }
      ],
      "source": [
        "pip install opencv-python"
      ]
    },
    {
      "cell_type": "code",
      "execution_count": null,
      "id": "f44733ca",
      "metadata": {
        "id": "f44733ca",
        "outputId": "5d161659-65cd-405e-bc0a-919c74d2d22e"
      },
      "outputs": [
        {
          "name": "stdout",
          "output_type": "stream",
          "text": [
            "{'Cataracts': 0, 'Crossed_Eyes': 1, 'Glaucoma': 2, 'Normal': 3, 'Uveitis': 4}\n",
            "['Cataracts', 'Crossed_Eyes', 'Glaucoma', 'Normal', 'Uveitis']\n",
            "[0, 1, 2, 3, 4]\n"
          ]
        }
      ],
      "source": [
        "import cv2\n",
        "import os                                          #for path & directory\n",
        "\n",
        "data_path = 'Eye_diseases'                         \n",
        "categories = os.listdir(data_path)                 #get folder\n",
        "labels = [i for i in range(len(categories))]       #for getting labels-0,1,2,3,4\n",
        "label_dict = dict(zip(categories,labels))          #empty directory - combain above 2 lists\n",
        "\n",
        "print(label_dict)\n",
        "print(categories)\n",
        "print(labels)"
      ]
    },
    {
      "cell_type": "code",
      "execution_count": null,
      "id": "6d1f67c6",
      "metadata": {
        "id": "6d1f67c6"
      },
      "outputs": [],
      "source": [
        "img_size = 100                    #fix size\n",
        "data = []                        #2 empty lists\n",
        "target = []\n",
        "\n",
        "for category in categories:\n",
        "    folder_path = os.path.join(data_path,category)\n",
        "    img_names = os.listdir(folder_path)\n",
        "    \n",
        "    for img_name in img_names:                              #pick 1 by 1\n",
        "        img_path = os.path.join(folder_path,img_name)\n",
        "        img = cv2.imread(img_path)                          #read image frm img_path\n",
        "        \n",
        "        try:\n",
        "            gray = cv2.cvtColor(img,cv2.COLOR_BGR2GRAY)      #convert image to gray scale\n",
        "            resized = cv2.resize(gray,(img_size,img_size))   #resizing the gray scale into 100*100\n",
        "            data.append(resized)                             #append resized image to data\n",
        "            target.append(label_dict[category])              #append to target, appending the image & the label(categorized) into the list(dataset) \n",
        "            \n",
        "        except Exception as e:\n",
        "            print('Exception:', e)                #if any exception raised, the exception will be printed here & pass to the next image        "
      ]
    },
    {
      "cell_type": "code",
      "execution_count": null,
      "id": "90b9f5ec",
      "metadata": {
        "id": "90b9f5ec",
        "outputId": "88acfa9e-fa3f-42e3-8763-0d4a8f8b9c7d"
      },
      "outputs": [
        {
          "name": "stdout",
          "output_type": "stream",
          "text": [
            "(413, 100, 100)\n",
            "[[1. 0. 0. 0. 0.]\n",
            " [1. 0. 0. 0. 0.]\n",
            " [1. 0. 0. 0. 0.]\n",
            " ...\n",
            " [0. 0. 0. 0. 1.]\n",
            " [0. 0. 0. 0. 1.]\n",
            " [0. 0. 0. 0. 1.]]\n"
          ]
        }
      ],
      "source": [
        "#normalize (convert to array 0-1)\n",
        "\n",
        "import numpy as np\n",
        "\n",
        "data = np.array(data)/255.0                                      #data & target convert to array\n",
        "print(data.shape)\n",
        "data = np.reshape(data,(data.shape[0],img_size,img_size,1))            # 1 - channel \n",
        "target = np.array(target)\n",
        "\n",
        "from keras.utils import np_utils                  #np_utils --> string to array\n",
        "new_target = np_utils.to_categorical(target)\n",
        "print(new_target)"
      ]
    },
    {
      "cell_type": "code",
      "execution_count": null,
      "id": "af863a3a",
      "metadata": {
        "id": "af863a3a",
        "outputId": "1ab00e80-b7b6-4e24-b4d6-559dac0dfa75"
      },
      "outputs": [
        {
          "data": {
            "text/plain": [
              "array([[1., 0., 0., 0., 0.],\n",
              "       [1., 0., 0., 0., 0.],\n",
              "       [1., 0., 0., 0., 0.],\n",
              "       ...,\n",
              "       [0., 0., 0., 0., 1.],\n",
              "       [0., 0., 0., 0., 1.],\n",
              "       [0., 0., 0., 0., 1.]], dtype=float32)"
            ]
          },
          "execution_count": 5,
          "metadata": {},
          "output_type": "execute_result"
        }
      ],
      "source": [
        "new_target"
      ]
    },
    {
      "cell_type": "code",
      "execution_count": null,
      "id": "e3a18122",
      "metadata": {
        "id": "e3a18122"
      },
      "outputs": [],
      "source": [
        "np.save('data',data)                  #save data & target\n",
        "np.save('target',new_target)"
      ]
    }
  ],
  "metadata": {
    "kernelspec": {
      "display_name": "Python 3 (ipykernel)",
      "language": "python",
      "name": "python3"
    },
    "language_info": {
      "codemirror_mode": {
        "name": "ipython",
        "version": 3
      },
      "file_extension": ".py",
      "mimetype": "text/x-python",
      "name": "python",
      "nbconvert_exporter": "python",
      "pygments_lexer": "ipython3",
      "version": "3.9.13"
    },
    "colab": {
      "provenance": [],
      "include_colab_link": true
    }
  },
  "nbformat": 4,
  "nbformat_minor": 5
}